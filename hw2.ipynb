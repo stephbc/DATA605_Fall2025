{
 "cells": [
  {
   "cell_type": "markdown",
   "id": "3872ef9f",
   "metadata": {},
   "source": [
    "Stephanie Chiang  \n",
    "DATA 605  \n",
    "Fall 2025 \n",
    "# Homework 2"
   ]
  },
  {
   "cell_type": "markdown",
   "id": "45daf6c7",
   "metadata": {},
   "source": [
    "## Problem 1"
   ]
  },
  {
   "cell_type": "markdown",
   "id": "c662dc80",
   "metadata": {},
   "source": [
    "(Bayesian): A new credit scoring system has been developed to predict the likelihood of loan defaults. The system has a 90% sensitivity, meaning that it correctly identifies 90% of those who will default on their loans. It also has a 95% specificity, meaning that it correctly identifies 95% of those who will not default. The default rate among borrowers is 2%. Given these prevalence, sensitivity, and specificity estimates, what is the probability that a borrower flagged by the system as likely to default will actually default? If the average loss per defaulted loan is $200,000 and the cost to run the credit scoring test on each borrower is $500, what is the total first-year cost for evaluating 10,000 borrowers?"
   ]
  },
  {
   "cell_type": "markdown",
   "id": "b8be8ecf",
   "metadata": {},
   "source": [
    "The formula for Bayes Theorem is P(A|B) = (P(B|A) * P(A)) / P(B). Here, A is the event that a borrower will default and B is the event that the borrower is flagged as likely to default. To calculate the probability of A given B, we just need to calculate P(B), the overall probability of being flagged as likely to default, since the other values are already available.\n",
    "\n",
    "So for the total probability, the formula is P(B) = P(B|A) * P(A) + P(B|not A) * P(not A). The values are plugged in below and result in a probabilty of about 0.2687 that the flagged borrower will actually default.\n",
    "\n",
    "As for the total first year cost, we can just add together the costs of testing 10,000 borrowers and the expected losses from defaults. This results in a total first year cost of $45,000,000.00"
   ]
  },
  {
   "cell_type": "code",
   "execution_count": 5,
   "id": "ab96a94b",
   "metadata": {},
   "outputs": [
    {
     "name": "stdout",
     "output_type": "stream",
     "text": [
      "P(A|B) = 0.2686567164179103\n",
      "Total first year cost = $45000000.0\n"
     ]
    }
   ],
   "source": [
    "# Probability\n",
    "sensitivity = 0.90      # P(B|A)\n",
    "p_A = 0.02              # P(A)\n",
    "specificity = 0.95      # P(not B|not A)\n",
    "\n",
    "# Compute P(B)\n",
    "p_B = sensitivity * p_A + (1 - specificity) * (1 - p_A)\n",
    "\n",
    "# Compute Bayes' theorem\n",
    "p_A_B = (sensitivity * p_A) / p_B\n",
    "print(f\"P(A|B) = {p_A_B}\")\n",
    "\n",
    "\n",
    "# First year cost\n",
    "total_testing_cost = 10000 * 500\n",
    "\n",
    "# Expected number of defaults\n",
    "expected_defaults = 10000 * p_A\n",
    "\n",
    "# Expected loss from defaults\n",
    "expected_loss = expected_defaults * 200000\n",
    "\n",
    "print(f\"Total first year cost = ${total_testing_cost + expected_loss}\")"
   ]
  },
  {
   "cell_type": "markdown",
   "id": "0fe6e6f1",
   "metadata": {},
   "source": [
    "(Binomial): The probability that a stock will pay a dividend in any given quarter is 0.7. What is the probability that the stock pays dividends exactly 6 times in 8 quarters? What is the probability that it pays dividends 6 or more times? What is the probability that it pays dividends fewer than 6 times? What is the expected number of dividend payments over 8 quarters? What is the standard deviation?"
   ]
  },
  {
   "cell_type": "markdown",
   "id": "940f16f1",
   "metadata": {},
   "source": [
    "We can use the `binom.pmf()` function in `scipy` to calulate the probability mass function, which is the probability of obtaining exactly 6 successes in 8 quarters, given a probability of success 0.7 for each single quarter. This comes to about 0.2965.\n",
    "\n",
    "For the next two probabilities, we can use the cumulative distribution function `binom.cdf()`. We plug in 5 for probability of fewer than 6 successes, resulting in 0.4482. Then we use that value and subtract that from 1 for the opposite, 6 or more successes, with comes to 0.5518\n",
    "\n",
    "The expected value is just the trials times the probability of success, or 5.6 payments, and the standard deviation is calculated by multipling the trials with the probability of success with the probability of failure, then taking the square root. The standard deviation comes to 1.296."
   ]
  },
  {
   "cell_type": "code",
   "execution_count": 7,
   "id": "7bbc74be",
   "metadata": {},
   "outputs": [
    {
     "name": "stdout",
     "output_type": "stream",
     "text": [
      "P(X = 6) = 0.2964754800000001\n",
      "P(X < 6) = 0.44822618999999997\n",
      "P(X ≥ 6) = 0.55177381\n",
      "Expected value = 5.6\n",
      "Standard deviation = 1.2961481396815722\n"
     ]
    }
   ],
   "source": [
    "from scipy.stats import binom\n",
    "import math\n",
    "\n",
    "n = 8       # number of quarters aka trials\n",
    "p = 0.7     # probability of success per trial\n",
    "\n",
    "p_6 = binom.pmf(6, n, p)\n",
    "print(f\"P(X = 6) = {p_6}\")\n",
    "\n",
    "p_5less = binom.cdf(5, n, p)\n",
    "print(f\"P(X < 6) = {p_5less}\")\n",
    "\n",
    "p_min6 = 1 - p_5less\n",
    "print(f\"P(X ≥ 6) = {p_min6}\")\n",
    "\n",
    "expected = n * p\n",
    "print(f\"Expected value = {expected}\")\n",
    "\n",
    "std_dev = math.sqrt(n * p * (1 - p))\n",
    "print(f\"Standard deviation = {std_dev}\")"
   ]
  },
  {
   "cell_type": "markdown",
   "id": "f85445f1",
   "metadata": {},
   "source": [
    "(Poisson): A financial analyst notices that there are an average of 12 trading days each month when a certain stock’s price increases by more than 2%. What is the probability that exactly 4 such days occur in a given month? What is the probability that more than 12 such days occur in a given month? How many such days would you expect in a 6-month period? What is the standard deviation of the number of such days? If an investment strategy requires at least 70 days of such price increases in a year for profitability, what is the percent utilization and what are your recommendations?"
   ]
  },
  {
   "cell_type": "markdown",
   "id": "39622074",
   "metadata": {},
   "source": [
    "The `scipy` package also has functions for calculating the Poisson distribution.\n",
    "\n",
    "- For the probability of observing exactly k events in a month, given a mean rate of occurrence, we can use `poisson.pmf()`. This comes to about 0.0053.\n",
    "- For the probability of observing more than 12 events in a month, we can use the cumulative distribution function `poisson.cdf()` to calculate the probability of observing 12 or fewer events, then subtract that from 1. This comes to about 0.424.\n",
    "- The expected number of events in a 6-month period is just the mean rate times the number of months, or 72.\n",
    "- The standard deviation is the square root of the mean rate times the number of months, or about 8.4853.\n",
    "- For the investment strategy, we can again use the cumulative distribution function to calculate the probability of observing at least 70 events in a year. This comes to about 0.9999. The expected utilization is the expected number of events in a year divided by the required number of events, or over 205%, so I would recommend this investment."
   ]
  },
  {
   "cell_type": "code",
   "execution_count": 20,
   "id": "e3f55052",
   "metadata": {},
   "outputs": [
    {
     "name": "stdout",
     "output_type": "stream",
     "text": [
      "P(X = 4 in 1 month) = 0.005308599473275576\n",
      "P(X > 12 in 1 month) = 0.4240347514269356\n",
      "Expected days in 6 months = 72\n",
      "Std. dev. for 6 months = 8.48528137423857\n",
      "P(≥70 in a year) = 0.9999999999972864\n",
      "Expected utilization = 205.7142857142857%\n"
     ]
    }
   ],
   "source": [
    "from scipy.stats import poisson\n",
    "\n",
    "avg_events = 12\n",
    "\n",
    "p_4 = poisson.pmf(4, avg_events)\n",
    "print(f\"P(X = 4 in 1 month) = {p_4}\")\n",
    "\n",
    "p_over12 = 1 - poisson.cdf(12, avg_events)\n",
    "print(f\"P(X > 12 in 1 month) = {p_over12}\")\n",
    "\n",
    "expected_6 = avg_events * 6\n",
    "print(f\"Expected days in 6 months = {expected_6}\")\n",
    "\n",
    "std_6 = math.sqrt(expected_6)\n",
    "print(f\"Std. dev. for 6 months = {std_6}\")\n",
    "\n",
    "avg_year = avg_events * 12\n",
    "\n",
    "p_min70 = 1 - poisson.cdf(69, avg_year)\n",
    "print(f\"P(≥70 in a year) = {p_min70}\")\n",
    "\n",
    "expected_utilization = (avg_year / 70) * 100\n",
    "print(f\"Expected utilization = {expected_utilization}%\")\n"
   ]
  },
  {
   "cell_type": "markdown",
   "id": "5372f580",
   "metadata": {},
   "source": [
    "(Hypergeometric): A hedge fund has a portfolio of 25 stocks, with 15 categorized as high-risk and 10 as low-risk. The fund manager randomly selects 7 stocks to closely monitor. If the manager selected 5 high-risk stocks and 2 low-risk stocks, what is the probability of selecting exactly 5 high-risk stocks if the selection was random? How many high-risk and low-risk stocks would you expect to be selected?"
   ]
  },
  {
   "cell_type": "markdown",
   "id": "26217c14",
   "metadata": {},
   "source": [
    "Once again, we can use the `scipy` package; the `hypergeom.pmf()` function calculates the probability of selecting x, or exactly 5, high-risk stocks from a random draw of n = 7 stocks from a total of N = 25 stocks, 15 of which (the K or number of successes in the population) are high-risk. This comes to about 0.2811.\n",
    "\n",
    "The expected value formula is n * (K / N), which results in an expected value of 4.2 high-risk stocks and 2.8 low-risk stocks."
   ]
  },
  {
   "cell_type": "code",
   "execution_count": 21,
   "id": "5f959187",
   "metadata": {},
   "outputs": [
    {
     "name": "stdout",
     "output_type": "stream",
     "text": [
      "P(X = 5 high-risk) = 0.2811212814645309\n",
      "Expected high-risk = 4.2\n",
      "Expected low-risk  = 2.8\n"
     ]
    }
   ],
   "source": [
    "from scipy.stats import hypergeom\n",
    "\n",
    "N = 25   # total number of stocks\n",
    "K = 15   # number of high-risk stocks\n",
    "n = 7    # number of stocks selected\n",
    "x = 5    # number of high-risk selected\n",
    "\n",
    "p_5 = hypergeom.pmf(x, N, K, n)\n",
    "print(f\"P(X = 5 high-risk) = {p_5}\")\n",
    "\n",
    "expected_high = n * (K / N)\n",
    "print(f\"Expected high-risk = {expected_high}\")\n",
    "\n",
    "expected_low = n - expected_high\n",
    "print(f\"Expected low-risk  = {expected_low}\")\n"
   ]
  },
  {
   "cell_type": "markdown",
   "id": "8b35b50d",
   "metadata": {},
   "source": [
    "(Geometric): The probability that a bond defaults in any given year is 0.5%. A portfolio manager holds this bond for 10 years. What is the probability that the bond will default during this period? What is the probability that it will default in the next 15 years? What is the expected number of years before the bond defaults? If the bond has already survived 10 years, what is the probability that it will default in the next 2 years?"
   ]
  },
  {
   "cell_type": "markdown",
   "id": "fac46967",
   "metadata": {},
   "source": [
    "The cumulative distribution function (CDF) for a geometric distribution is P(x <= n) = 1 - (1 - p)^n. p = 0.005 and n is the number of years.\n",
    "\n",
    "The expected value of a geometric distribution is just 1/p.\n",
    "\n",
    "As for the probability of defaulting after 10 years of survival, each year is independent so the calculation is the same but just for 2 year. "
   ]
  },
  {
   "cell_type": "code",
   "execution_count": 23,
   "id": "b77c1698",
   "metadata": {},
   "outputs": [
    {
     "name": "stdout",
     "output_type": "stream",
     "text": [
      "P(default within 10 years) = 0.048889869534228136\n",
      "P(default within 15 years) = 0.07243103118167216\n",
      "Expected years before default = 200.0\n",
      "P(default within 2 years) = 0.009974999999999956\n"
     ]
    }
   ],
   "source": [
    "p = 0.005  \n",
    "\n",
    "p_in10 = 1 - ((1 - p) ** 10)\n",
    "print(f\"P(default within 10 years) = {p_in10}\")\n",
    "\n",
    "p_in15 = 1 - ((1 - p) ** 15)\n",
    "print(f\"P(default within 15 years) = {p_in15}\")\n",
    "\n",
    "print(f\"Expected years before default = {1 / p}\")\n",
    "\n",
    "p_after10_in2 = 1 - ((1 - p) ** 2)\n",
    "print(f\"P(default within 2 years) = {p_after10_in2}\")\n"
   ]
  },
  {
   "cell_type": "markdown",
   "id": "293c347b",
   "metadata": {},
   "source": [
    "(Poisson): A high-frequency trading algorithm experiences a system failure about once every 1500 trading hours. What is the probability that the algorithm will experience more than two failures in 1500 hours? What is the expected number of failures?"
   ]
  },
  {
   "cell_type": "markdown",
   "id": "3d7d5101",
   "metadata": {},
   "source": [
    "We can use `poisson.cdf()` to calculate the cumulative distribution function for 2 failures, then subtract that from 1 to get the complement. The expected number of failures is just the mean rate of occurrence, which is 1."
   ]
  },
  {
   "cell_type": "code",
   "execution_count": 25,
   "id": "4adbf6e4",
   "metadata": {},
   "outputs": [
    {
     "name": "stdout",
     "output_type": "stream",
     "text": [
      "P(more than 2 fails) = 0.08030139707139416\n"
     ]
    }
   ],
   "source": [
    "p_over2 = 1 - poisson.cdf(2, 1)\n",
    "print(f\"P(more than 2 fails) = {p_over2}\")"
   ]
  },
  {
   "cell_type": "markdown",
   "id": "8b99af80",
   "metadata": {},
   "source": [
    "(Uniform Distribution): An investor is trying to time the market and is monitoring a stock that they believe has an equal chance of reaching a target price between 20 and 60 days. What is the probability that the stock will reach the target price in more than 40 days? If it hasn’t reached the target price by day 40, what is the probability that it will reach it in the next 10 days? What is the expected time for the stock to reach the target price?"
   ]
  },
  {
   "cell_type": "markdown",
   "id": "1fa11668",
   "metadata": {},
   "source": [
    "We can use the `uniform.cdf` function where a is the minimum value (20 days) and b is the max value (60 days). We can calculate for x = 40 as the day we're interested in, then take the complement for over 40 days. This probability comes to 0.5. \n",
    "\n",
    "Next, to get the probability of the stock reaching the price between days 40 and 50, we can divide P(X <= 50) - P(X <= 40) by the probability of being greater than 40.\n",
    "\n",
    "The expected value of a uniform distribution is just the midpoint of the range, so (a + b)/2 = 40 days."
   ]
  },
  {
   "cell_type": "code",
   "execution_count": 29,
   "id": "4886d4ea",
   "metadata": {},
   "outputs": [
    {
     "name": "stdout",
     "output_type": "stream",
     "text": [
      "P(X > 40) = 0.5\n",
      "P(40 < X < 50) = 0.5\n",
      "Expected days = 40.0\n"
     ]
    }
   ],
   "source": [
    "from scipy.stats import uniform\n",
    "\n",
    "a = 20\n",
    "b = 60\n",
    "\n",
    "p_40 = uniform.cdf(40, a, b - a)\n",
    "print(f\"P(X > 40) = {1 - p_40}\")\n",
    "\n",
    "p_40_50 = (uniform.cdf(50, a, b - a) - p_40) / (1 - p_40)\n",
    "print(f\"P(40 < X < 50) = {p_40_50}\")\n",
    "\n",
    "expected_days = (a + b) / 2\n",
    "print(f\"Expected days = {expected_days}\")\n"
   ]
  },
  {
   "cell_type": "markdown",
   "id": "119989dc",
   "metadata": {},
   "source": [
    "(Exponential Distribution): A financial model estimates that the lifetime of a successful start-up before it either goes public or fails follows an exponential distribution with an expected value of 8 years. What is the expected time until the start-up either goes public or fails? What is the standard deviation? What is the probability that the start-up will go public or fail after 6 years? Given that the start-up has survived for 6 years, what is the probability that it will go public or fail in the next 2 years?"
   ]
  },
  {
   "cell_type": "markdown",
   "id": "d609df5c",
   "metadata": {},
   "source": [
    "The expected time AND the standard deviation for an exponential distribution are both just 1 / (the number of events per unit of time), or 1/8.\n",
    "\n",
    "The probability of the start-up going public after 6 years is calculated with the formula P(T > t) = e^(−λt) where t = 6 and the lambda is the rate 1/8. This comes to 0.4723.\n",
    "\n",
    "The probability of the start-up failing in the 2 years is independent of the results from the previous years. So we use the same formula with t = 2 and take the complement."
   ]
  },
  {
   "cell_type": "code",
   "execution_count": 33,
   "id": "3ad5b1d4",
   "metadata": {},
   "outputs": [
    {
     "name": "stdout",
     "output_type": "stream",
     "text": [
      "E[T] = 8.0 years\n",
      "Standard deviation = 8.0 years\n",
      "P(T > 6) = 0.4723665527410147\n",
      "P(6 < T <= 8) = 0.22119921692859512\n"
     ]
    }
   ],
   "source": [
    "rate = 1 / 8\n",
    "print(f\"E[T] = {1 / rate} years\")\n",
    "print(f\"Standard deviation = {1 / rate} years\")\n",
    "\n",
    "p_over6 = math.exp(-rate * 6)\n",
    "print(f\"P(T > 6) = {p_over6}\")\n",
    "\n",
    "p_6_8 = 1 - math.exp(-rate * 2)\n",
    "print(f\"P(6 < T <= 8) = {p_6_8}\")\n"
   ]
  },
  {
   "cell_type": "markdown",
   "id": "7184d60d",
   "metadata": {},
   "source": [
    "## Problem 2"
   ]
  },
  {
   "cell_type": "markdown",
   "id": "e5550124",
   "metadata": {},
   "source": [
    "(Product Selection): A company produces 5 different types of green pens and 7 different types of red pens. The marketing team needs to create a new promotional package that includes 5 pens. How many different ways can the package be created if it contains fewer than 2 green pens?\n",
    "\n",
    "Answer: _______________"
   ]
  },
  {
   "cell_type": "markdown",
   "id": "2d3184bb",
   "metadata": {},
   "source": [
    "(Team Formation for a Project): A project committee is being formed within a company that includes 14 senior managers and 13 junior managers. How many ways can a project team of 5 members be formed if at least 4 of the members must be junior managers?\n",
    "\n",
    "Answer: _______________"
   ]
  },
  {
   "cell_type": "markdown",
   "id": "756f3b77",
   "metadata": {},
   "source": [
    "(Marketing Campaign Outcomes): A marketing campaign involves three stages: first, a customer is sent 5 email offers; second, the customer is targeted with 2 different online ads; and third, the customer is presented with 3 personalized product recommendations. If the email offers, online ads, and product recommendations are selected randomly, how many different possible outcomes are there for the entire campaign?\n",
    "\n",
    "Answer: _______________\n"
   ]
  },
  {
   "cell_type": "markdown",
   "id": "17da743c",
   "metadata": {},
   "source": [
    "(Product Defect Probability): A quality control team draws 3 products from a batch of size N without replacement. What is the probability that at least one of the products drawn is defective if the defect rate is known to be consistent? \n",
    "\n",
    "Answer: _______________"
   ]
  },
  {
   "cell_type": "markdown",
   "id": "0d4340c6",
   "metadata": {},
   "source": [
    "(Business Strategy Choices): A business strategist is choosing potential projects to invest in, focusing on 17 high-risk, high-reward projects and 14 low-risk, steady-return projects.\n",
    "\n",
    "Step 1: How many different combinations of 5 projects can the strategist select?\n",
    "\n",
    "Answer: _______________\n",
    "\n",
    "Step 2: How many different combinations of 5 projects can the strategist select if they want at least one low-risk project?\n",
    "\n",
    "Answer: _______________"
   ]
  },
  {
   "cell_type": "markdown",
   "id": "bff30666",
   "metadata": {},
   "source": [
    "(Event Scheduling): A business conference needs to schedule 9 different keynote sessions from three different industries: technology, finance, and healthcare. There are 4 potential technology sessions, 104 finance sessions, and 17 healthcare sessions to choose from. How many different schedules can be made? Express your answer in scientific notation rounding to the hundredths place.\n",
    "\n",
    "Answer: ____________________"
   ]
  },
  {
   "cell_type": "markdown",
   "id": "19c3508c",
   "metadata": {},
   "source": [
    "(Book Selection for Corporate Training): An HR manager needs to create a reading list for a corporate leadership training program, which includes 13 books in total. The books are categorized into 6 novels, 6 business case studies, 7 leadership theory books, and 5 strategy books.\n",
    "\n",
    "Step 1: If the manager wants to include no more than 4 strategy books, how many different reading schedules are possible? Express your answer in scientific notation rounding to the hundredths place.\n",
    "\n",
    "Answer: ____________________\n",
    "\n",
    "Step 2: If the manager wants to include all 6 business case studies, how many different reading schedules are possible? Express your answer in scientific notation rounding to the hundredths place.\n",
    "\n",
    "Answer: ____________________"
   ]
  },
  {
   "cell_type": "markdown",
   "id": "7f8fee9a",
   "metadata": {},
   "source": [
    "(Product Arrangement): A retailer is arranging 10 products on a display shelf. There are 5 different electronic gadgets and 5 different accessories. What is the probability that all the gadgets are placed together and all the accessories are placed together on the shelf? Express your answer as a fraction or a decimal number rounded to four decimal places.\n",
    "\n",
    "Answer: _______________"
   ]
  },
  {
   "cell_type": "markdown",
   "id": "234cf4ac",
   "metadata": {},
   "source": [
    "(Expected Value of a Business Deal): A company is evaluating a deal where they either gain $4 for every successful contract or lose $16 for every unsuccessful contract. A \"successful\" contract is defined as drawing a queen or lower from a standard deck of cards. (Aces are considered the highest card in the deck.)\n",
    "\n",
    "Step 1: Find the expected value of the deal. Round your answer to two decimal places. Losses must be expressed as negative values.\n",
    "\n",
    "Answer: $_______________\n",
    "\n",
    "Step 2: If the company enters into this deal 833 times, how much would they expect to win or lose? Round your answer to two decimal places. Losses must be expressed as negative values.\n",
    "\n",
    "Answer: $_______________"
   ]
  },
  {
   "cell_type": "markdown",
   "id": "adea1b38",
   "metadata": {},
   "source": [
    "## Problem 3"
   ]
  },
  {
   "cell_type": "markdown",
   "id": "b307ccd8",
   "metadata": {},
   "source": [
    "(Supply Chain Risk Assessment): Let X1, X2, ..., Xn\n",
    " represent the lead times (in days) for the delivery of key components from n = 5\n",
    " different suppliers. Each lead time is uniformly distributed across a range of 1 to k = 20\n",
    " days, reflecting the uncertainty in delivery times. Let Y\n",
    " denote the minimum delivery time among all suppliers. Understanding the distribution of Y\n",
    " is crucial for assessing the earliest possible time you can begin production. Determine the distribution of Y\n",
    " to better manage your supply chain and minimize downtime.\n",
    "\n",
    "(Maintenance Planning for Critical Equipment): Your organization owns a critical piece of equipment, such as a high-capacity photocopier (for a law firm) or an MRI machine (for a healthcare provider). The manufacturer estimates the expected lifetime of this equipment to be 8 years, meaning that, on average, you expect one failure every 8 years. It's essential to understand the likelihood of failure over time to plan for maintenance and replacements.\n",
    "\n",
    "a. Geometric Model: Calculate the probability that the machine will not fail for the first 6 years. Also, provide the expected value and standard deviation. This model assumes each year the machine either fails or does not, independently of previous years.\n",
    "\n",
    "b. Exponential Model: Calculate the probability that the machine will not fail for the first 6 years. Provide the expected value and standard deviation, modeling the time to failure as a continuous process.\n",
    "\n",
    "c. Binomial Model: Calculate the probability that the machine will not fail during the first 6 years, given that it is expected to fail once every 8 years. Provide the expected value and standard deviation, assuming a fixed number of trials (years) with a constant failure probability each year.\n",
    "\n",
    "d. Poisson Model: Calculate the probability that the machine will not fail during the first 6 years, modeling the failure events as a Poisson process. Provide the expected value and standard deviation.\n"
   ]
  },
  {
   "cell_type": "code",
   "execution_count": null,
   "id": "ef039315",
   "metadata": {},
   "outputs": [],
   "source": []
  },
  {
   "cell_type": "markdown",
   "id": "f751e71b",
   "metadata": {},
   "source": [
    "## Problem 4"
   ]
  },
  {
   "cell_type": "markdown",
   "id": "66c1f003",
   "metadata": {},
   "source": [
    "1.  Scenario: You are managing two independent servers in a data center. The time until the next failure for each server follows an exponential distribution with different rates:\n",
    "\n",
    "Server A has a failure rate of λA = 0.5\n",
    " failures per hour.\n",
    "Server B has a failure rate of λB = 0.3\n",
    " failures per hour.\n",
    "Question: What is the distribution of the total time until both servers have failed at least once? Use the moment generating function (MGF) to find the distribution of the sum of the times to failure.\n",
    "\n",
    "2. Sum of Independent Normally Distributed Random Variables\n",
    "\n",
    "Scenario: An investment firm is analyzing the returns of two independent assets, Asset X and Asset Y. The returns on these assets are normally distributed:\n",
    "\n",
    "Asset X: X ~ N(μX = 5%, σ^2 X = 4%)\n",
    "Asset Y: Y ~ N(μY = 7%, σ^2 Y = 9%)\n",
    "Question: Find the distribution of the combined return of the portfolio consisting of these two assets using the moment generating function (MGF).\n",
    "\n",
    "3.  Scenario: A call center receives calls independently from two different regions. The number of calls received from Region A and Region B in an hour follows a Poisson distribution:\n",
    "\n",
    "Region A: λA ~ Poisson(λA = 3)\n",
    "Region B: λB ~ Poisson(λB = 5)\n",
    "Question: Determine the distribution of the total number of calls received in an hour from both regions using the moment generating function (MGF).\n"
   ]
  },
  {
   "cell_type": "markdown",
   "id": "4be4eaf4",
   "metadata": {},
   "source": [
    "## Problem 5"
   ]
  },
  {
   "cell_type": "markdown",
   "id": "5b440fb4",
   "metadata": {},
   "source": [
    "1.  Customer Retention and Churn Analysis\n",
    "\n",
    "Scenario: A telecommunications company wants to model the behavior of its customers regarding their likelihood to stay with the company (retention) or leave for a competitor (churn). The company segments its customers into three states:\n",
    "\n",
    "State 1: Active customers who are satisfied and likely to stay (Retention state).\n",
    "State 2: Customers who are considering leaving (At-risk state).\n",
    "State 3: Customers who have left (Churn state).\n",
    "The company has historical data showing the following monthly transition probabilities:\n",
    "\n",
    "From State 1 (Retention): 80% stay in State 1, 15% move to State 2, and 5% move to State 3.\n",
    "From State 2 (At-risk): 30% return to State 1, 50% stay in State 2, and 20% move to State 3.\n",
    "From State 3 (Churn): 100% stay in State 3.\n",
    "The company wants to analyze the long-term behavior of its customer base.\n",
    "\n",
    "Question: (a) Construct the transition matrix for this Markov Chain. (b) If a customer starts as satisfied (State 1), what is the probability that they will eventually churn (move to State 3)? (c) Determine the steady-state distribution of this Markov Chain. What percentage of customers can the company expect to be in each state in the long run?\n",
    "\n",
    "2: Inventory Management in a Warehouse\n",
    "Scenario: A warehouse tracks the inventory levels of a particular product using a Markov Chain model. The inventory levels are categorized into three states:\n",
    "\n",
    "State 1: High inventory (More than 100 units in stock).\n",
    "State 2: Medium inventory (Between 50 and 100 units in stock).\n",
    "State 3: Low inventory (Less than 50 units in stock).\n",
    "The warehouse has the following transition probabilities for inventory levels from one month to the next:\n",
    "\n",
    "From State 1 (High): 70% stay in State 1, 25% move to State 2, and 5% move to State 3.\n",
    "From State 2 (Medium): 20% move to State 1, 50% stay in State 2, and 30% move to State 3.\n",
    "From State 3 (Low): 10% move to State 1, 40% move to State 2, and 50% stay in State 3.\n",
    "The warehouse management wants to optimize its restocking strategy by understanding the long-term distribution of inventory levels.\n",
    "\n",
    "Question: (a) Construct the transition matrix for this Markov Chain. (b) If the warehouse starts with a high inventory level (State 1), what is the probability that it will eventually end up in a low inventory level (State 3)? (c) Determine the steady-state distribution of this Markov Chain. What is the long-term expected proportion of time that the warehouse will spend in each inventory state?\n"
   ]
  }
 ],
 "metadata": {
  "kernelspec": {
   "display_name": "base",
   "language": "python",
   "name": "python3"
  },
  "language_info": {
   "codemirror_mode": {
    "name": "ipython",
    "version": 3
   },
   "file_extension": ".py",
   "mimetype": "text/x-python",
   "name": "python",
   "nbconvert_exporter": "python",
   "pygments_lexer": "ipython3",
   "version": "3.12.7"
  }
 },
 "nbformat": 4,
 "nbformat_minor": 5
}
